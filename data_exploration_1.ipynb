{
 "cells": [
  {
   "cell_type": "markdown",
   "metadata": {},
   "source": [
    "# Data "
   ]
  },
  {
   "cell_type": "code",
   "execution_count": null,
   "metadata": {},
   "outputs": [],
   "source": [
    "import os\n",
    "from tqdm import tqdm"
   ]
  },
  {
   "cell_type": "markdown",
   "metadata": {},
   "source": [
    "### Dowload data\n",
    "Let's download the wikimedia page counts data of 2016-08-01"
   ]
  },
  {
   "cell_type": "code",
   "execution_count": null,
   "metadata": {},
   "outputs": [],
   "source": [
    "DATA_PATH = \"/home/ubuntu/data\""
   ]
  },
  {
   "cell_type": "code",
   "execution_count": null,
   "metadata": {},
   "outputs": [],
   "source": [
    "# create dir data\n",
    "! mkdir \"$DATA_PATH\"\n",
    "\n",
    "os.chdir(DATA_PATH)\n",
    "\n",
    "# download one day wikimedia data, date=2016-08-01\n",
    "prefix = \"https://dumps.wikimedia.org/other/pagecounts-raw/2016/2016-08/pagecounts-20160801-\"\n",
    "for i in tqdm(range(24)):\n",
    "    url = \"\".join([prefix, \"{:02}0000\".format(i), \".gz\"])\n",
    "    ! wget \"$url\""
   ]
  },
  {
   "cell_type": "markdown",
   "metadata": {},
   "source": [
    "### Explore data"
   ]
  },
  {
   "cell_type": "code",
   "execution_count": null,
   "metadata": {},
   "outputs": [],
   "source": [
    "! ls \"$DATA_PATH\""
   ]
  },
  {
   "cell_type": "markdown",
   "metadata": {},
   "source": [
    "__We have downloaded 24 files. Each file contains page counts for one hour of 2016-08-01 in teh folowing format:__\n",
    "\n",
    "/projectcounts-${YEAR}${MONTH}-${DAY}-${HOUR}0000"
   ]
  },
  {
   "cell_type": "markdown",
   "metadata": {},
   "source": [
    "Chosse a file number (similar to choosing hour of day between 0 to 23)"
   ]
  },
  {
   "cell_type": "code",
   "execution_count": null,
   "metadata": {},
   "outputs": [],
   "source": [
    "file_number = 0"
   ]
  },
  {
   "cell_type": "markdown",
   "metadata": {},
   "source": [
    "Let's have a look at the first lines of the file"
   ]
  },
  {
   "cell_type": "code",
   "execution_count": null,
   "metadata": {},
   "outputs": [],
   "source": [
    "prefix = \"pagecounts-20160801-\"\n",
    "# fname stores the filename without the \".gz\"\n",
    "fname = prefix + \"{:02}0000\".format(file_number)\n",
    "# unzip the file, while keeping the compressed file\n",
    "! gunzip -k \"$fname\".gz\n",
    "# compute the number of lines with bash command wc -l and store the result in wcout\n",
    "lines_count = ! wc -l \"$fname\"\n",
    "# get the first lines of the file\n",
    "! head \"$fname\"\n",
    "# Delete the uncompressed file\n",
    "! rm \"$fname\""
   ]
  },
  {
   "cell_type": "markdown",
   "metadata": {},
   "source": [
    "The first field is ```domain_name``` (ex: aa), the second field is ```page_title``` (ex: Main_Page), the third field is ```count_views``` (ex: 1) and the last field is ```total_response_size``` (ex: 78261). So for example ```en Main_Page 42 50043``` means 42 requests to en.wikipedia.org/wiki/Main_Page, which accounted in total for 50043 response bytes.\n",
    "More info: https://wikitech.wikimedia.org/wiki/Analytics/Archive/Data/Pagecounts-raw"
   ]
  },
  {
   "cell_type": "code",
   "execution_count": null,
   "metadata": {},
   "outputs": [],
   "source": [
    "lines_count"
   ]
  },
  {
   "cell_type": "markdown",
   "metadata": {},
   "source": [
    "The file pagecounts-20160801-000000 contains __6 270 942__ lines"
   ]
  },
  {
   "cell_type": "markdown",
   "metadata": {},
   "source": [
    "__What is the total number of lines across all files?__"
   ]
  },
  {
   "cell_type": "markdown",
   "metadata": {},
   "source": [
    "Can you answer the following questions:\n",
    "- Are the lines ordered in a certain manner? Yes. Alphanumerical order.\n",
    "- What is the most viewed (```damain_name```, ```page_title```) couple in the file pagecounts-20160801-000000?\n",
    "- Which (```damain_name```, ```page_title```) couple in the file pagecounts-20160801-000000 has the largest ```total_response_size```?\n",
    "- What is the most visited ```domain_name```?\n",
    "- Which files have the highest and lowest number of lines?\n",
    "- What is the total number of lines across all files?"
   ]
  },
  {
   "cell_type": "markdown",
   "metadata": {},
   "source": [
    "__What is the most viewed (```damain_name```, ```page_title```) couple in the file pagecounts-20160801-000000?__"
   ]
  },
  {
   "cell_type": "code",
   "execution_count": null,
   "metadata": {},
   "outputs": [],
   "source": []
  },
  {
   "cell_type": "markdown",
   "metadata": {},
   "source": [
    "__Which (```damain_name```, ```page_title```) couple in the file pagecounts-20160801-000000 has the largest ```total_response_size```?__"
   ]
  },
  {
   "cell_type": "code",
   "execution_count": null,
   "metadata": {},
   "outputs": [],
   "source": []
  },
  {
   "cell_type": "markdown",
   "metadata": {},
   "source": [
    "__What is the most visited ```domain_name```?__"
   ]
  },
  {
   "cell_type": "code",
   "execution_count": null,
   "metadata": {},
   "outputs": [],
   "source": []
  },
  {
   "cell_type": "markdown",
   "metadata": {},
   "source": [
    "__Which files have the highest and lowest number of lines?__"
   ]
  },
  {
   "cell_type": "code",
   "execution_count": null,
   "metadata": {},
   "outputs": [],
   "source": []
  }
 ],
 "metadata": {
  "kernelspec": {
   "display_name": "Python 3",
   "language": "python",
   "name": "python3"
  },
  "language_info": {
   "codemirror_mode": {
    "name": "ipython",
    "version": 3
   },
   "file_extension": ".py",
   "mimetype": "text/x-python",
   "name": "python",
   "nbconvert_exporter": "python",
   "pygments_lexer": "ipython3",
   "version": "3.6.5"
  }
 },
 "nbformat": 4,
 "nbformat_minor": 2
}
