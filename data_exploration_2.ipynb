{
 "cells": [
  {
   "cell_type": "markdown",
   "metadata": {},
   "source": [
    "# Data "
   ]
  },
  {
   "cell_type": "markdown",
   "metadata": {},
   "source": [
    "### Dowload data\n",
    "Let's download the wikimedia page counts data of 2016-08-01"
   ]
  },
  {
   "cell_type": "code",
   "execution_count": 12,
   "metadata": {},
   "outputs": [
    {
     "name": "stdout",
     "output_type": "stream",
     "text": [
      "mkdir: cannot create directory ‘/home/ubuntu/data’: File exists\n",
      "--2019-10-18 11:27:16--  https://dumps.wikimedia.org/other/pagecounts-raw/2016/2016-08/pagecounts-20160801-000000.gz\n",
      "Resolving dumps.wikimedia.org (dumps.wikimedia.org)... 208.80.154.7, 2620:0:861:1:208:80:154:7\n",
      "Connecting to dumps.wikimedia.org (dumps.wikimedia.org)|208.80.154.7|:443... connected.\n",
      "HTTP request sent, awaiting response... 200 OK\n",
      "Length: 82460873 (79M) [application/octet-stream]\n",
      "Saving to: ‘pagecounts-20160801-000000.gz’\n",
      "\n",
      "pagecounts-20160801 100%[===================>]  78.64M  1.99MB/s    in 39s     \n",
      "\n",
      "2019-10-18 11:27:56 (2.00 MB/s) - ‘pagecounts-20160801-000000.gz’ saved [82460873/82460873]\n",
      "\n",
      "--2019-10-18 11:27:56--  https://dumps.wikimedia.org/other/pagecounts-raw/2016/2016-08/pagecounts-20160801-010000.gz\n",
      "Resolving dumps.wikimedia.org (dumps.wikimedia.org)... 208.80.154.7, 2620:0:861:1:208:80:154:7\n",
      "Connecting to dumps.wikimedia.org (dumps.wikimedia.org)|208.80.154.7|:443... connected.\n",
      "HTTP request sent, awaiting response... 200 OK\n",
      "Length: 78805133 (75M) [application/octet-stream]\n",
      "Saving to: ‘pagecounts-20160801-010000.gz’\n",
      "\n",
      "pagecounts-20160801 100%[===================>]  75.15M  1.98MB/s    in 38s     \n",
      "\n",
      "2019-10-18 11:28:34 (1.99 MB/s) - ‘pagecounts-20160801-010000.gz’ saved [78805133/78805133]\n",
      "\n",
      "--2019-10-18 11:28:34--  https://dumps.wikimedia.org/other/pagecounts-raw/2016/2016-08/pagecounts-20160801-020000.gz\n",
      "Resolving dumps.wikimedia.org (dumps.wikimedia.org)... 208.80.154.7, 2620:0:861:1:208:80:154:7\n",
      "Connecting to dumps.wikimedia.org (dumps.wikimedia.org)|208.80.154.7|:443... connected.\n",
      "HTTP request sent, awaiting response... 200 OK\n",
      "Length: 77362027 (74M) [application/octet-stream]\n",
      "Saving to: ‘pagecounts-20160801-020000.gz’\n",
      "\n",
      "pagecounts-20160801 100%[===================>]  73.78M  1.97MB/s    in 37s     \n",
      "\n",
      "2019-10-18 11:29:11 (2.01 MB/s) - ‘pagecounts-20160801-020000.gz’ saved [77362027/77362027]\n",
      "\n",
      "--2019-10-18 11:29:11--  https://dumps.wikimedia.org/other/pagecounts-raw/2016/2016-08/pagecounts-20160801-030000.gz\n",
      "Resolving dumps.wikimedia.org (dumps.wikimedia.org)... 208.80.154.7, 2620:0:861:1:208:80:154:7\n",
      "Connecting to dumps.wikimedia.org (dumps.wikimedia.org)|208.80.154.7|:443... connected.\n",
      "HTTP request sent, awaiting response... 200 OK\n",
      "Length: 78470264 (75M) [application/octet-stream]\n",
      "Saving to: ‘pagecounts-20160801-030000.gz’\n",
      "\n",
      "pagecounts-20160801 100%[===================>]  74.83M  1.95MB/s    in 38s     \n",
      "\n",
      "2019-10-18 11:29:49 (1.97 MB/s) - ‘pagecounts-20160801-030000.gz’ saved [78470264/78470264]\n",
      "\n",
      "--2019-10-18 11:29:49--  https://dumps.wikimedia.org/other/pagecounts-raw/2016/2016-08/pagecounts-20160801-040000.gz\n",
      "Resolving dumps.wikimedia.org (dumps.wikimedia.org)... 208.80.154.7, 2620:0:861:1:208:80:154:7\n",
      "Connecting to dumps.wikimedia.org (dumps.wikimedia.org)|208.80.154.7|:443... connected.\n",
      "HTTP request sent, awaiting response... 200 OK\n",
      "Length: 78257232 (75M) [application/octet-stream]\n",
      "Saving to: ‘pagecounts-20160801-040000.gz’\n",
      "\n",
      "pagecounts-20160801 100%[===================>]  74.63M  1.98MB/s    in 37s     \n",
      "\n",
      "2019-10-18 11:30:26 (2.00 MB/s) - ‘pagecounts-20160801-040000.gz’ saved [78257232/78257232]\n",
      "\n",
      "--2019-10-18 11:30:26--  https://dumps.wikimedia.org/other/pagecounts-raw/2016/2016-08/pagecounts-20160801-050000.gz\n",
      "Resolving dumps.wikimedia.org (dumps.wikimedia.org)... 208.80.154.7, 2620:0:861:1:208:80:154:7\n",
      "Connecting to dumps.wikimedia.org (dumps.wikimedia.org)|208.80.154.7|:443... connected.\n",
      "HTTP request sent, awaiting response... 200 OK\n",
      "Length: 78995847 (75M) [application/octet-stream]\n",
      "Saving to: ‘pagecounts-20160801-050000.gz’\n",
      "\n",
      "pagecounts-20160801 100%[===================>]  75.34M  1.98MB/s    in 38s     \n",
      "\n",
      "2019-10-18 11:31:04 (1.99 MB/s) - ‘pagecounts-20160801-050000.gz’ saved [78995847/78995847]\n",
      "\n",
      "--2019-10-18 11:31:05--  https://dumps.wikimedia.org/other/pagecounts-raw/2016/2016-08/pagecounts-20160801-060000.gz\n",
      "Resolving dumps.wikimedia.org (dumps.wikimedia.org)... 208.80.154.7, 2620:0:861:1:208:80:154:7\n",
      "Connecting to dumps.wikimedia.org (dumps.wikimedia.org)|208.80.154.7|:443... connected.\n",
      "HTTP request sent, awaiting response... 200 OK\n",
      "Length: 82030249 (78M) [application/octet-stream]\n",
      "Saving to: ‘pagecounts-20160801-060000.gz’\n",
      "\n",
      "pagecounts-20160801 100%[===================>]  78.23M  1.95MB/s    in 39s     \n",
      "\n",
      "2019-10-18 11:31:44 (1.99 MB/s) - ‘pagecounts-20160801-060000.gz’ saved [82030249/82030249]\n",
      "\n",
      "--2019-10-18 11:31:44--  https://dumps.wikimedia.org/other/pagecounts-raw/2016/2016-08/pagecounts-20160801-070000.gz\n",
      "Resolving dumps.wikimedia.org (dumps.wikimedia.org)... 208.80.154.7, 2620:0:861:1:208:80:154:7\n",
      "Connecting to dumps.wikimedia.org (dumps.wikimedia.org)|208.80.154.7|:443... connected.\n",
      "HTTP request sent, awaiting response... 200 OK\n",
      "Length: 84373496 (80M) [application/octet-stream]\n",
      "Saving to: ‘pagecounts-20160801-070000.gz’\n",
      "\n",
      "pagecounts-20160801 100%[===================>]  80.46M  1.98MB/s    in 41s     \n",
      "\n",
      "2019-10-18 11:32:25 (1.98 MB/s) - ‘pagecounts-20160801-070000.gz’ saved [84373496/84373496]\n",
      "\n",
      "--2019-10-18 11:32:25--  https://dumps.wikimedia.org/other/pagecounts-raw/2016/2016-08/pagecounts-20160801-080000.gz\n",
      "Resolving dumps.wikimedia.org (dumps.wikimedia.org)... 208.80.154.7, 2620:0:861:1:208:80:154:7\n",
      "Connecting to dumps.wikimedia.org (dumps.wikimedia.org)|208.80.154.7|:443... connected.\n",
      "HTTP request sent, awaiting response... 200 OK\n",
      "Length: 89042040 (85M) [application/octet-stream]\n",
      "Saving to: ‘pagecounts-20160801-080000.gz’\n",
      "\n",
      "pagecounts-20160801 100%[===================>]  84.92M  2.00MB/s    in 42s     \n",
      "\n",
      "2019-10-18 11:33:07 (2.01 MB/s) - ‘pagecounts-20160801-080000.gz’ saved [89042040/89042040]\n",
      "\n",
      "--2019-10-18 11:33:08--  https://dumps.wikimedia.org/other/pagecounts-raw/2016/2016-08/pagecounts-20160801-090000.gz\n",
      "Resolving dumps.wikimedia.org (dumps.wikimedia.org)... 208.80.154.7, 2620:0:861:1:208:80:154:7\n",
      "Connecting to dumps.wikimedia.org (dumps.wikimedia.org)|208.80.154.7|:443... connected.\n",
      "HTTP request sent, awaiting response... 200 OK\n",
      "Length: 93346702 (89M) [application/octet-stream]\n",
      "Saving to: ‘pagecounts-20160801-090000.gz’\n",
      "\n",
      "pagecounts-20160801 100%[===================>]  89.02M  1.98MB/s    in 45s     \n",
      "\n",
      "2019-10-18 11:33:52 (2.00 MB/s) - ‘pagecounts-20160801-090000.gz’ saved [93346702/93346702]\n",
      "\n",
      "--2019-10-18 11:33:52--  https://dumps.wikimedia.org/other/pagecounts-raw/2016/2016-08/pagecounts-20160801-100000.gz\n",
      "Resolving dumps.wikimedia.org (dumps.wikimedia.org)... 208.80.154.7, 2620:0:861:1:208:80:154:7\n",
      "Connecting to dumps.wikimedia.org (dumps.wikimedia.org)|208.80.154.7|:443... connected.\n",
      "HTTP request sent, awaiting response... 200 OK\n",
      "Length: 91106464 (87M) [application/octet-stream]\n",
      "Saving to: ‘pagecounts-20160801-100000.gz’\n",
      "\n",
      "pagecounts-20160801 100%[===================>]  86.89M  1.98MB/s    in 44s     \n",
      "\n",
      "2019-10-18 11:34:36 (1.99 MB/s) - ‘pagecounts-20160801-100000.gz’ saved [91106464/91106464]\n",
      "\n",
      "--2019-10-18 11:34:36--  https://dumps.wikimedia.org/other/pagecounts-raw/2016/2016-08/pagecounts-20160801-110000.gz\n",
      "Resolving dumps.wikimedia.org (dumps.wikimedia.org)... 208.80.154.7, 2620:0:861:1:208:80:154:7\n",
      "Connecting to dumps.wikimedia.org (dumps.wikimedia.org)|208.80.154.7|:443... connected.\n",
      "HTTP request sent, awaiting response... 200 OK\n",
      "Length: 93839605 (89M) [application/octet-stream]\n",
      "Saving to: ‘pagecounts-20160801-110000.gz’\n",
      "\n",
      "pagecounts-20160801 100%[===================>]  89.49M  1.97MB/s    in 45s     \n",
      "\n",
      "2019-10-18 11:35:21 (1.99 MB/s) - ‘pagecounts-20160801-110000.gz’ saved [93839605/93839605]\n",
      "\n",
      "--2019-10-18 11:35:21--  https://dumps.wikimedia.org/other/pagecounts-raw/2016/2016-08/pagecounts-20160801-120000.gz\n",
      "Resolving dumps.wikimedia.org (dumps.wikimedia.org)... 208.80.154.7, 2620:0:861:1:208:80:154:7\n",
      "Connecting to dumps.wikimedia.org (dumps.wikimedia.org)|208.80.154.7|:443... connected.\n",
      "HTTP request sent, awaiting response... 200 OK\n",
      "Length: 98278304 (94M) [application/octet-stream]\n",
      "Saving to: ‘pagecounts-20160801-120000.gz’\n",
      "\n",
      "pagecounts-20160801 100%[===================>]  93.72M  1.95MB/s    in 48s     \n",
      "\n",
      "2019-10-18 11:36:10 (1.95 MB/s) - ‘pagecounts-20160801-120000.gz’ saved [98278304/98278304]\n",
      "\n",
      "--2019-10-18 11:36:10--  https://dumps.wikimedia.org/other/pagecounts-raw/2016/2016-08/pagecounts-20160801-130000.gz\n",
      "Resolving dumps.wikimedia.org (dumps.wikimedia.org)... 208.80.154.7, 2620:0:861:1:208:80:154:7\n",
      "Connecting to dumps.wikimedia.org (dumps.wikimedia.org)|208.80.154.7|:443... connected.\n",
      "HTTP request sent, awaiting response... 200 OK\n",
      "Length: 101218597 (97M) [application/octet-stream]\n",
      "Saving to: ‘pagecounts-20160801-130000.gz’\n",
      "\n",
      "pagecounts-20160801 100%[===================>]  96.53M  1.94MB/s    in 49s     \n",
      "\n",
      "2019-10-18 11:36:59 (1.96 MB/s) - ‘pagecounts-20160801-130000.gz’ saved [101218597/101218597]\n",
      "\n",
      "--2019-10-18 11:36:59--  https://dumps.wikimedia.org/other/pagecounts-raw/2016/2016-08/pagecounts-20160801-140000.gz\n",
      "Resolving dumps.wikimedia.org (dumps.wikimedia.org)... 208.80.154.7, 2620:0:861:1:208:80:154:7\n",
      "Connecting to dumps.wikimedia.org (dumps.wikimedia.org)|208.80.154.7|:443... connected.\n",
      "HTTP request sent, awaiting response... 200 OK\n",
      "Length: 101622282 (97M) [application/octet-stream]\n",
      "Saving to: ‘pagecounts-20160801-140000.gz’\n",
      "\n",
      "pagecounts-20160801 100%[===================>]  96.91M  1.98MB/s    in 48s     \n",
      "\n",
      "2019-10-18 11:37:48 (2.00 MB/s) - ‘pagecounts-20160801-140000.gz’ saved [101622282/101622282]\n",
      "\n",
      "--2019-10-18 11:37:48--  https://dumps.wikimedia.org/other/pagecounts-raw/2016/2016-08/pagecounts-20160801-150000.gz\n",
      "Resolving dumps.wikimedia.org (dumps.wikimedia.org)... 208.80.154.7, 2620:0:861:1:208:80:154:7\n",
      "Connecting to dumps.wikimedia.org (dumps.wikimedia.org)|208.80.154.7|:443... connected.\n",
      "HTTP request sent, awaiting response... 200 OK\n",
      "Length: 101758206 (97M) [application/octet-stream]\n",
      "Saving to: ‘pagecounts-20160801-150000.gz’\n",
      "\n",
      "pagecounts-20160801 100%[===================>]  97.04M  1.95MB/s    in 49s     \n",
      "\n",
      "2019-10-18 11:38:37 (1.98 MB/s) - ‘pagecounts-20160801-150000.gz’ saved [101758206/101758206]\n",
      "\n",
      "--2019-10-18 11:38:37--  https://dumps.wikimedia.org/other/pagecounts-raw/2016/2016-08/pagecounts-20160801-160000.gz\n",
      "Resolving dumps.wikimedia.org (dumps.wikimedia.org)... 208.80.154.7, 2620:0:861:1:208:80:154:7\n",
      "Connecting to dumps.wikimedia.org (dumps.wikimedia.org)|208.80.154.7|:443... connected.\n",
      "HTTP request sent, awaiting response... 200 OK\n",
      "Length: 98801502 (94M) [application/octet-stream]\n",
      "Saving to: ‘pagecounts-20160801-160000.gz’\n",
      "\n",
      "pagecounts-20160801 100%[===================>]  94.22M  2.00MB/s    in 47s     \n",
      "\n",
      "2019-10-18 11:39:24 (2.01 MB/s) - ‘pagecounts-20160801-160000.gz’ saved [98801502/98801502]\n",
      "\n",
      "--2019-10-18 11:39:24--  https://dumps.wikimedia.org/other/pagecounts-raw/2016/2016-08/pagecounts-20160801-170000.gz\n",
      "Resolving dumps.wikimedia.org (dumps.wikimedia.org)... 208.80.154.7, 2620:0:861:1:208:80:154:7\n",
      "Connecting to dumps.wikimedia.org (dumps.wikimedia.org)|208.80.154.7|:443... connected.\n",
      "HTTP request sent, awaiting response... 200 OK\n",
      "Length: 96820248 (92M) [application/octet-stream]\n",
      "Saving to: ‘pagecounts-20160801-170000.gz’\n",
      "\n",
      "pagecounts-20160801 100%[===================>]  92.33M  1.96MB/s    in 47s     \n",
      "\n",
      "2019-10-18 11:40:11 (1.96 MB/s) - ‘pagecounts-20160801-170000.gz’ saved [96820248/96820248]\n",
      "\n",
      "--2019-10-18 11:40:11--  https://dumps.wikimedia.org/other/pagecounts-raw/2016/2016-08/pagecounts-20160801-180000.gz\n",
      "Resolving dumps.wikimedia.org (dumps.wikimedia.org)... 208.80.154.7, 2620:0:861:1:208:80:154:7\n",
      "Connecting to dumps.wikimedia.org (dumps.wikimedia.org)|208.80.154.7|:443... connected.\n",
      "HTTP request sent, awaiting response... 200 OK\n",
      "Length: 97093918 (93M) [application/octet-stream]\n",
      "Saving to: ‘pagecounts-20160801-180000.gz’\n",
      "\n",
      "pagecounts-20160801 100%[===================>]  92.60M  1.95MB/s    in 47s     \n",
      "\n",
      "2019-10-18 11:40:58 (1.97 MB/s) - ‘pagecounts-20160801-180000.gz’ saved [97093918/97093918]\n",
      "\n",
      "--2019-10-18 11:40:59--  https://dumps.wikimedia.org/other/pagecounts-raw/2016/2016-08/pagecounts-20160801-190000.gz\n",
      "Resolving dumps.wikimedia.org (dumps.wikimedia.org)... 208.80.154.7, 2620:0:861:1:208:80:154:7\n",
      "Connecting to dumps.wikimedia.org (dumps.wikimedia.org)|208.80.154.7|:443... connected.\n",
      "HTTP request sent, awaiting response... 200 OK\n",
      "Length: 96038066 (92M) [application/octet-stream]\n",
      "Saving to: ‘pagecounts-20160801-190000.gz’\n",
      "\n",
      "pagecounts-20160801 100%[===================>]  91.59M  1.97MB/s    in 46s     \n",
      "\n",
      "2019-10-18 11:41:45 (1.99 MB/s) - ‘pagecounts-20160801-190000.gz’ saved [96038066/96038066]\n",
      "\n",
      "--2019-10-18 11:41:45--  https://dumps.wikimedia.org/other/pagecounts-raw/2016/2016-08/pagecounts-20160801-200000.gz\n",
      "Resolving dumps.wikimedia.org (dumps.wikimedia.org)... 208.80.154.7, 2620:0:861:1:208:80:154:7\n",
      "Connecting to dumps.wikimedia.org (dumps.wikimedia.org)|208.80.154.7|:443... connected.\n",
      "HTTP request sent, awaiting response... 200 OK\n",
      "Length: 96072281 (92M) [application/octet-stream]\n",
      "Saving to: ‘pagecounts-20160801-200000.gz’\n",
      "\n",
      "pagecounts-20160801 100%[===================>]  91.62M  1.95MB/s    in 47s     \n",
      "\n",
      "2019-10-18 11:42:32 (1.97 MB/s) - ‘pagecounts-20160801-200000.gz’ saved [96072281/96072281]\n",
      "\n",
      "--2019-10-18 11:42:32--  https://dumps.wikimedia.org/other/pagecounts-raw/2016/2016-08/pagecounts-20160801-210000.gz\n",
      "Resolving dumps.wikimedia.org (dumps.wikimedia.org)... 208.80.154.7, 2620:0:861:1:208:80:154:7\n",
      "Connecting to dumps.wikimedia.org (dumps.wikimedia.org)|208.80.154.7|:443... connected.\n",
      "HTTP request sent, awaiting response... 200 OK\n",
      "Length: 93662222 (89M) [application/octet-stream]\n",
      "Saving to: ‘pagecounts-20160801-210000.gz’\n",
      "\n",
      "pagecounts-20160801 100%[===================>]  89.32M  1.95MB/s    in 45s     \n",
      "\n",
      "2019-10-18 11:43:17 (1.99 MB/s) - ‘pagecounts-20160801-210000.gz’ saved [93662222/93662222]\n",
      "\n",
      "--2019-10-18 11:43:17--  https://dumps.wikimedia.org/other/pagecounts-raw/2016/2016-08/pagecounts-20160801-220000.gz\n",
      "Resolving dumps.wikimedia.org (dumps.wikimedia.org)... 208.80.154.7, 2620:0:861:1:208:80:154:7\n",
      "Connecting to dumps.wikimedia.org (dumps.wikimedia.org)|208.80.154.7|:443... connected.\n",
      "HTTP request sent, awaiting response... 200 OK\n",
      "Length: 78136851 (75M) [application/octet-stream]\n",
      "Saving to: ‘pagecounts-20160801-220000.gz’\n",
      "\n",
      "pagecounts-20160801 100%[===================>]  74.52M  1.93MB/s    in 38s     \n",
      "\n",
      "2019-10-18 11:43:55 (1.97 MB/s) - ‘pagecounts-20160801-220000.gz’ saved [78136851/78136851]\n",
      "\n",
      "--2019-10-18 11:43:55--  https://dumps.wikimedia.org/other/pagecounts-raw/2016/2016-08/pagecounts-20160801-230000.gz\n",
      "Resolving dumps.wikimedia.org (dumps.wikimedia.org)... 208.80.154.7, 2620:0:861:1:208:80:154:7\n",
      "Connecting to dumps.wikimedia.org (dumps.wikimedia.org)|208.80.154.7|:443... connected.\n",
      "HTTP request sent, awaiting response... 200 OK\n",
      "Length: 84156063 (80M) [application/octet-stream]\n",
      "Saving to: ‘pagecounts-20160801-230000.gz’\n",
      "\n",
      "pagecounts-20160801 100%[===================>]  80.26M  1.96MB/s    in 40s     \n",
      "\n",
      "2019-10-18 11:44:35 (1.98 MB/s) - ‘pagecounts-20160801-230000.gz’ saved [84156063/84156063]\n",
      "\n"
     ]
    }
   ],
   "source": [
    "import os\n",
    "\n",
    "# create dir data\n",
    "! mkdir /home/ubuntu/data\n",
    "\n",
    "os.chdir(\"/home/ubuntu/data\")\n",
    "\n",
    "# download one day wikimedia data, date=2016-08-01\n",
    "prefix = \"https://dumps.wikimedia.org/other/pagecounts-raw/2016/2016-08/pagecounts-20160801-\"\n",
    "for i in range(24):\n",
    "    url = \"\".join([prefix, \"{:02}0000\".format(i), \".gz\"])\n",
    "    ! wget \"$url\""
   ]
  },
  {
   "cell_type": "markdown",
   "metadata": {},
   "source": [
    "### Explore data"
   ]
  },
  {
   "cell_type": "code",
   "execution_count": 13,
   "metadata": {},
   "outputs": [
    {
     "name": "stdout",
     "output_type": "stream",
     "text": [
      "pagecounts-20160801-000000.gz  pagecounts-20160801-120000.gz\r\n",
      "pagecounts-20160801-010000.gz  pagecounts-20160801-130000.gz\r\n",
      "pagecounts-20160801-020000.gz  pagecounts-20160801-140000.gz\r\n",
      "pagecounts-20160801-030000.gz  pagecounts-20160801-150000.gz\r\n",
      "pagecounts-20160801-040000.gz  pagecounts-20160801-160000.gz\r\n",
      "pagecounts-20160801-050000.gz  pagecounts-20160801-170000.gz\r\n",
      "pagecounts-20160801-060000.gz  pagecounts-20160801-180000.gz\r\n",
      "pagecounts-20160801-070000.gz  pagecounts-20160801-190000.gz\r\n",
      "pagecounts-20160801-080000.gz  pagecounts-20160801-200000.gz\r\n",
      "pagecounts-20160801-090000.gz  pagecounts-20160801-210000.gz\r\n",
      "pagecounts-20160801-100000.gz  pagecounts-20160801-220000.gz\r\n",
      "pagecounts-20160801-110000.gz  pagecounts-20160801-230000.gz\r\n"
     ]
    }
   ],
   "source": [
    "! ls /home/ubuntu/data"
   ]
  },
  {
   "cell_type": "markdown",
   "metadata": {},
   "source": [
    "__We have downloaded 24 files. Each file contains page counts for one hour of 2016-08-01 in teh folowing format:__\n",
    "\n",
    "/projectcounts-${YEAR}${MONTH}-${DAY}-${HOUR}0000"
   ]
  },
  {
   "cell_type": "markdown",
   "metadata": {},
   "source": [
    "Chosse a file number (similar to choosing hour of day between 0 to 23)"
   ]
  },
  {
   "cell_type": "code",
   "execution_count": 18,
   "metadata": {},
   "outputs": [],
   "source": [
    "file_number = 0"
   ]
  },
  {
   "cell_type": "markdown",
   "metadata": {},
   "source": [
    "Let's have a look at the first lines of the file"
   ]
  },
  {
   "cell_type": "code",
   "execution_count": 22,
   "metadata": {},
   "outputs": [
    {
     "name": "stdout",
     "output_type": "stream",
     "text": [
      "aa File:Sleeping_lion.jpg 1 8030\r\n",
      "aa Main_Page 1 78261\r\n",
      "aa Special:Statistics 1 20493\r\n",
      "aa Special:WhatLinksHere/File:Crystal_Clear_app_email.png 1 5412\r\n",
      "aa Special:WhatLinksHere/File:Wikipedia-logo-fr.png 1 5370\r\n",
      "aa Steward_requests/Bot_status 1 4733\r\n",
      "aa Translation_teams/ru 1 4718\r\n",
      "aa User:%E5%8F%B8%E5%BE%92%E4%BC%AF%E9%A2%9C 2 20096\r\n",
      "aa User:149.62.201.0/24 1 4802\r\n",
      "aa User:191.101.30.0/24 1 4806\r\n"
     ]
    }
   ],
   "source": [
    "prefix = \"pagecounts-20160801-\"\n",
    "# fname stores the filename without the \".gz\"\n",
    "fname = prefix + \"{:02}0000\".format(file_number)\n",
    "# unzip the file, while keeping the compressed file\n",
    "! gunzip -k \"$fname\".gz\n",
    "# compute the number of lines with bash command wc -l and store the result in wcout\n",
    "lines_count = ! wc -l \"$fname\"\n",
    "# get the first lines of the file\n",
    "! head \"$fname\"\n",
    "# Delete the uncompressed file\n",
    "! rm \"$fname\""
   ]
  },
  {
   "cell_type": "markdown",
   "metadata": {},
   "source": [
    "The first field is ```domain_name``` (ex: aa), the second field is ```page_title``` (ex: Main_Page), the third field is ```count_views``` (ex: 1) and the last field is ```total_response_size``` (ex: 78261). So for example ```en Main_Page 42 50043``` means 42 requests to en.wikipedia.org/wiki/Main_Page, which accounted in total for 50043 response bytes.\n",
    "More info: https://wikitech.wikimedia.org/wiki/Analytics/Archive/Data/Pagecounts-raw"
   ]
  },
  {
   "cell_type": "code",
   "execution_count": 23,
   "metadata": {},
   "outputs": [
    {
     "data": {
      "text/plain": [
       "['6270942 pagecounts-20160801-000000']"
      ]
     },
     "execution_count": 23,
     "metadata": {},
     "output_type": "execute_result"
    }
   ],
   "source": [
    "lines_count"
   ]
  },
  {
   "cell_type": "markdown",
   "metadata": {},
   "source": [
    "The file pagecounts-20160801-000000 contains __6 270 942__ lines"
   ]
  },
  {
   "cell_type": "markdown",
   "metadata": {},
   "source": [
    "Can you answer the following questions:\n",
    "- Are the lines ordered in a certain manner? Yes. Alphanumerical order.\n",
    "- What is the most viewed (```damain_name```, ```page_title```) couple in the file pagecounts-20160801-000000?\n",
    "- Which (```damain_name```, ```page_title```) couple in the file pagecounts-20160801-000000 has the largest ```total_response_size```?\n",
    "- What is the most visited ```domain_name```?\n",
    "- Which files have the highest and lowest number of lines?\n",
    "- What is the total number of lines across all files?"
   ]
  },
  {
   "cell_type": "markdown",
   "metadata": {},
   "source": [
    "__What is the most viewed (```damain_name```, ```page_title```) couple in the file pagecounts-20160801-000000?__"
   ]
  },
  {
   "cell_type": "code",
   "execution_count": 32,
   "metadata": {},
   "outputs": [
    {
     "name": "stdout",
     "output_type": "stream",
     "text": [
      "(en.mw, en) is the most viewed (domain_name, page_title) with 5336925 views\n"
     ]
    }
   ],
   "source": [
    "file_number = 0\n",
    "prefix = \"pagecounts-20160801-\"\n",
    "fname = prefix + \"{:02}0000\".format(file_number)\n",
    "! gunzip -k \"$fname\".gz\n",
    "max_count_views, max_domain_name, max_page_title = 0, None, None\n",
    "# Read file and extract fields\n",
    "file = open(fname, \"r\", encoding='utf-8')\n",
    "for line in file:\n",
    "    domain_name, page_title, count_views, total_response_size = line.split(' ')\n",
    "    count_views = int(count_views)\n",
    "    if count_views > max_count_views:\n",
    "        max_count_views = count_views\n",
    "        max_domain_name = domain_name\n",
    "        max_page_title = page_title\n",
    "! rm \"$fname\"\n",
    "\n",
    "print(\"({domain_name}, {page_title}) is the most viewed (domain_name, page_title) with {count_views} views\".format(\n",
    "    domain_name=max_domain_name,\n",
    "    page_title=max_page_title,\n",
    "    count_views=max_count_views))"
   ]
  },
  {
   "cell_type": "markdown",
   "metadata": {},
   "source": [
    "__Which (```damain_name```, ```page_title```) couple in the file pagecounts-20160801-000000 has the largest ```total_response_size```?__"
   ]
  },
  {
   "cell_type": "code",
   "execution_count": 36,
   "metadata": {},
   "outputs": [
    {
     "name": "stdout",
     "output_type": "stream",
     "text": [
      "(en.mw, en) couple has the largest total_response_size: 122044585824 views\n"
     ]
    }
   ],
   "source": [
    "file_number = 0\n",
    "prefix = \"pagecounts-20160801-\"\n",
    "fname = prefix + \"{:02}0000\".format(file_number)\n",
    "! gunzip -k \"$fname\".gz\n",
    "max_total_response_size, max_domain_name, max_page_title = 0, None, None\n",
    "# Read file and extract fields\n",
    "file = open(fname, \"r\", encoding='utf-8')\n",
    "for line in file:\n",
    "    domain_name, page_title, count_views, total_response_size = line.split(' ')\n",
    "    total_response_size = int(total_response_size)\n",
    "    if total_response_size > max_total_response_size:\n",
    "        max_total_response_size = total_response_size\n",
    "        max_domain_name = domain_name\n",
    "        max_page_title = page_title\n",
    "! rm \"$fname\"\n",
    "\n",
    "print(\"({domain_name}, {page_title}) couple has the largest total_response_size: {total_response_size} views\".format(\n",
    "    domain_name=max_domain_name,\n",
    "    page_title=max_page_title,\n",
    "    total_response_size=max_total_response_size))"
   ]
  },
  {
   "cell_type": "markdown",
   "metadata": {},
   "source": [
    "__What is the most visited ```domain_name```?__"
   ]
  },
  {
   "cell_type": "code",
   "execution_count": 39,
   "metadata": {},
   "outputs": [
    {
     "name": "stdout",
     "output_type": "stream",
     "text": [
      "en is the most viewed domain_name with 6949620 views\n"
     ]
    }
   ],
   "source": [
    "from collections import defaultdict\n",
    "\n",
    "file_number = 0\n",
    "prefix = \"pagecounts-20160801-\"\n",
    "fname = prefix + \"{:02}0000\".format(file_number)\n",
    "! gunzip -k \"$fname\".gz\n",
    "domain_name_counts = defaultdict(int)\n",
    "# Read file and extract fields\n",
    "file = open(fname, \"r\", encoding='utf-8')\n",
    "for line in file:\n",
    "    domain_name, page_title, count_views, total_response_size = line.split(' ')\n",
    "    domain_name_counts[domain_name] += int(count_views)\n",
    "    \n",
    "max_count_views, max_domain_name = 0, None\n",
    "for domain_name, count_views in domain_name_counts.items():\n",
    "    if count_views > max_count_views:\n",
    "        max_count_views = count_views\n",
    "        max_domain_name = domain_name\n",
    "    \n",
    "! rm \"$fname\"\n",
    "\n",
    "print(\"{domain_name} is the most viewed domain_name with {count_views} views\".format(\n",
    "    domain_name=max_domain_name,\n",
    "    count_views=max_count_views))"
   ]
  },
  {
   "cell_type": "code",
   "execution_count": null,
   "metadata": {},
   "outputs": [],
   "source": [
    "files_lines_count = []\n",
    "for file_number in range(24):\n",
    "    prefix = \"pagecounts-20160801-\"\n",
    "    fname = prefix + \"{:02}0000\".format(file_number)\n",
    "    print(\"processing file {}\".format(fname))\n",
    "    ! gunzip -k \"$fname\".gz\n",
    "    lines_count = ! wc -l \"$fname\"\n",
    "    # store lines_count\n",
    "    files_lines_count.extend(lines_count)\n",
    "    ! rm \"$fname\""
   ]
  },
  {
   "cell_type": "markdown",
   "metadata": {},
   "source": [
    "__Which files have the highest and lowest number of lines?__"
   ]
  },
  {
   "cell_type": "code",
   "execution_count": 29,
   "metadata": {},
   "outputs": [
    {
     "name": "stdout",
     "output_type": "stream",
     "text": [
      "File pagecounts-20160801-150000 has the maximum number of lines 7846121\n",
      "File pagecounts-20160801-020000 has the minimum number of lines 5838509\n"
     ]
    }
   ],
   "source": [
    "max_lines, max_file = 0, None\n",
    "min_lines, min_file = 6270942, None\n",
    "for lines_count in files_lines_count:\n",
    "    nb_lines_str, file_name = lines_count.split(' ')\n",
    "    nb_lines = int(nb_lines_str)\n",
    "    if nb_lines > max_lines:\n",
    "        max_lines = nb_lines\n",
    "        max_file = file_name\n",
    "    if nb_lines < min_lines:\n",
    "        min_lines = nb_lines\n",
    "        min_file = file_name\n",
    "        \n",
    "print(\"File {file_name} has the maximum number of lines {nb_lines}\".format(\n",
    "    file_name=max_file,\n",
    "    nb_lines=max_lines))\n",
    "print(\"File {file_name} has the minimum number of lines {nb_lines}\".format(\n",
    "    file_name=min_file,\n",
    "    nb_lines=min_lines))"
   ]
  },
  {
   "cell_type": "markdown",
   "metadata": {},
   "source": [
    "__What is the total number of lines across all files?__"
   ]
  },
  {
   "cell_type": "code",
   "execution_count": 40,
   "metadata": {},
   "outputs": [
    {
     "name": "stdout",
     "output_type": "stream",
     "text": [
      "There are 164306459 lines across all files\n"
     ]
    }
   ],
   "source": [
    "total_lines_count = sum([int(lines_count.split(' ')[0]) for lines_count in files_lines_count])\n",
    "print(\"There are {total_lines_count} lines across all files\".format(total_lines_count=total_lines_count))"
   ]
  },
  {
   "cell_type": "code",
   "execution_count": null,
   "metadata": {},
   "outputs": [],
   "source": []
  }
 ],
 "metadata": {
  "kernelspec": {
   "display_name": "Python 3",
   "language": "python",
   "name": "python3"
  },
  "language_info": {
   "codemirror_mode": {
    "name": "ipython",
    "version": 3
   },
   "file_extension": ".py",
   "mimetype": "text/x-python",
   "name": "python",
   "nbconvert_exporter": "python",
   "pygments_lexer": "ipython3",
   "version": "3.6.8"
  }
 },
 "nbformat": 4,
 "nbformat_minor": 2
}
